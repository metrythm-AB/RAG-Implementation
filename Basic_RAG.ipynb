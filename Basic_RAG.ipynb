{
  "cells": [
    {
      "cell_type": "markdown",
      "metadata": {
        "id": "view-in-github",
        "colab_type": "text"
      },
      "source": [
        "<a href=\"https://colab.research.google.com/github/metrythm-AB/RAG-Implementation/blob/main/Basic_RAG.ipynb\" target=\"_parent\"><img src=\"https://colab.research.google.com/assets/colab-badge.svg\" alt=\"Open In Colab\"/></a>"
      ]
    },
    {
      "cell_type": "code",
      "execution_count": 26,
      "metadata": {
        "colab": {
          "base_uri": "https://localhost:8080/"
        },
        "id": "Pq03J2p0fmxu",
        "outputId": "6faff904-35da-4ce2-a8e5-1b596dca5d64"
      },
      "outputs": [
        {
          "output_type": "stream",
          "name": "stdout",
          "text": [
            "Requirement already satisfied: pinecone-client in /usr/local/lib/python3.10/dist-packages (5.0.1)\n",
            "Requirement already satisfied: certifi>=2019.11.17 in /usr/local/lib/python3.10/dist-packages (from pinecone-client) (2024.8.30)\n",
            "Requirement already satisfied: pinecone-plugin-inference<2.0.0,>=1.0.3 in /usr/local/lib/python3.10/dist-packages (from pinecone-client) (1.1.0)\n",
            "Requirement already satisfied: pinecone-plugin-interface<0.0.8,>=0.0.7 in /usr/local/lib/python3.10/dist-packages (from pinecone-client) (0.0.7)\n",
            "Requirement already satisfied: tqdm>=4.64.1 in /usr/local/lib/python3.10/dist-packages (from pinecone-client) (4.66.5)\n",
            "Requirement already satisfied: typing-extensions>=3.7.4 in /usr/local/lib/python3.10/dist-packages (from pinecone-client) (4.12.2)\n",
            "Requirement already satisfied: urllib3>=1.26.0 in /usr/local/lib/python3.10/dist-packages (from pinecone-client) (2.2.3)\n",
            "Requirement already satisfied: transformers in /usr/local/lib/python3.10/dist-packages (4.44.2)\n",
            "Requirement already satisfied: sentence-transformers in /usr/local/lib/python3.10/dist-packages (3.1.1)\n",
            "Requirement already satisfied: filelock in /usr/local/lib/python3.10/dist-packages (from transformers) (3.16.1)\n",
            "Requirement already satisfied: huggingface-hub<1.0,>=0.23.2 in /usr/local/lib/python3.10/dist-packages (from transformers) (0.24.7)\n",
            "Requirement already satisfied: numpy>=1.17 in /usr/local/lib/python3.10/dist-packages (from transformers) (1.26.4)\n",
            "Requirement already satisfied: packaging>=20.0 in /usr/local/lib/python3.10/dist-packages (from transformers) (24.1)\n",
            "Requirement already satisfied: pyyaml>=5.1 in /usr/local/lib/python3.10/dist-packages (from transformers) (6.0.2)\n",
            "Requirement already satisfied: regex!=2019.12.17 in /usr/local/lib/python3.10/dist-packages (from transformers) (2024.9.11)\n",
            "Requirement already satisfied: requests in /usr/local/lib/python3.10/dist-packages (from transformers) (2.32.3)\n",
            "Requirement already satisfied: safetensors>=0.4.1 in /usr/local/lib/python3.10/dist-packages (from transformers) (0.4.5)\n",
            "Requirement already satisfied: tokenizers<0.20,>=0.19 in /usr/local/lib/python3.10/dist-packages (from transformers) (0.19.1)\n",
            "Requirement already satisfied: tqdm>=4.27 in /usr/local/lib/python3.10/dist-packages (from transformers) (4.66.5)\n",
            "Requirement already satisfied: torch>=1.11.0 in /usr/local/lib/python3.10/dist-packages (from sentence-transformers) (2.4.1+cu121)\n",
            "Requirement already satisfied: scikit-learn in /usr/local/lib/python3.10/dist-packages (from sentence-transformers) (1.5.2)\n",
            "Requirement already satisfied: scipy in /usr/local/lib/python3.10/dist-packages (from sentence-transformers) (1.13.1)\n",
            "Requirement already satisfied: Pillow in /usr/local/lib/python3.10/dist-packages (from sentence-transformers) (10.4.0)\n",
            "Requirement already satisfied: fsspec>=2023.5.0 in /usr/local/lib/python3.10/dist-packages (from huggingface-hub<1.0,>=0.23.2->transformers) (2024.6.1)\n",
            "Requirement already satisfied: typing-extensions>=3.7.4.3 in /usr/local/lib/python3.10/dist-packages (from huggingface-hub<1.0,>=0.23.2->transformers) (4.12.2)\n",
            "Requirement already satisfied: sympy in /usr/local/lib/python3.10/dist-packages (from torch>=1.11.0->sentence-transformers) (1.13.3)\n",
            "Requirement already satisfied: networkx in /usr/local/lib/python3.10/dist-packages (from torch>=1.11.0->sentence-transformers) (3.3)\n",
            "Requirement already satisfied: jinja2 in /usr/local/lib/python3.10/dist-packages (from torch>=1.11.0->sentence-transformers) (3.1.4)\n",
            "Requirement already satisfied: charset-normalizer<4,>=2 in /usr/local/lib/python3.10/dist-packages (from requests->transformers) (3.3.2)\n",
            "Requirement already satisfied: idna<4,>=2.5 in /usr/local/lib/python3.10/dist-packages (from requests->transformers) (3.10)\n",
            "Requirement already satisfied: urllib3<3,>=1.21.1 in /usr/local/lib/python3.10/dist-packages (from requests->transformers) (2.2.3)\n",
            "Requirement already satisfied: certifi>=2017.4.17 in /usr/local/lib/python3.10/dist-packages (from requests->transformers) (2024.8.30)\n",
            "Requirement already satisfied: joblib>=1.2.0 in /usr/local/lib/python3.10/dist-packages (from scikit-learn->sentence-transformers) (1.4.2)\n",
            "Requirement already satisfied: threadpoolctl>=3.1.0 in /usr/local/lib/python3.10/dist-packages (from scikit-learn->sentence-transformers) (3.5.0)\n",
            "Requirement already satisfied: MarkupSafe>=2.0 in /usr/local/lib/python3.10/dist-packages (from jinja2->torch>=1.11.0->sentence-transformers) (2.1.5)\n",
            "Requirement already satisfied: mpmath<1.4,>=1.1.0 in /usr/local/lib/python3.10/dist-packages (from sympy->torch>=1.11.0->sentence-transformers) (1.3.0)\n",
            "Requirement already satisfied: pinecone in /usr/local/lib/python3.10/dist-packages (5.3.1)\n",
            "Requirement already satisfied: certifi>=2019.11.17 in /usr/local/lib/python3.10/dist-packages (from pinecone) (2024.8.30)\n",
            "Requirement already satisfied: pinecone-plugin-inference<2.0.0,>=1.1.0 in /usr/local/lib/python3.10/dist-packages (from pinecone) (1.1.0)\n",
            "Requirement already satisfied: pinecone-plugin-interface<0.0.8,>=0.0.7 in /usr/local/lib/python3.10/dist-packages (from pinecone) (0.0.7)\n",
            "Requirement already satisfied: python-dateutil>=2.5.3 in /usr/local/lib/python3.10/dist-packages (from pinecone) (2.8.2)\n",
            "Requirement already satisfied: tqdm>=4.64.1 in /usr/local/lib/python3.10/dist-packages (from pinecone) (4.66.5)\n",
            "Requirement already satisfied: typing-extensions>=3.7.4 in /usr/local/lib/python3.10/dist-packages (from pinecone) (4.12.2)\n",
            "Requirement already satisfied: urllib3>=1.26.0 in /usr/local/lib/python3.10/dist-packages (from pinecone) (2.2.3)\n",
            "Requirement already satisfied: six>=1.5 in /usr/local/lib/python3.10/dist-packages (from python-dateutil>=2.5.3->pinecone) (1.16.0)\n"
          ]
        }
      ],
      "source": [
        "!pip install pinecone-client\n",
        "!pip install transformers sentence-transformers\n",
        "!pip install pinecone"
      ]
    },
    {
      "cell_type": "code",
      "execution_count": 27,
      "metadata": {
        "id": "3mnaTRBBiOzq"
      },
      "outputs": [],
      "source": [
        "from pinecone import Pinecone, ServerlessSpec\n",
        "from transformers import GPT2LMHeadModel, GPT2Tokenizer\n",
        "from sentence_transformers import SentenceTransformer\n",
        "from transformers import pipeline, AutoModelForCausalLM, AutoTokenizer\n"
      ]
    },
    {
      "cell_type": "code",
      "execution_count": 29,
      "metadata": {
        "id": "BeioKYHClA8G"
      },
      "outputs": [],
      "source": [
        "pc=Pinecone(api_key=\"da1ce8b8-1a1f-47a8-bb77-677c68a0a17f\")\n",
        "index_name='basic-rag1'\n",
        "pc.create_index(name=index_name,dimension=384, metric=\"cosine\",spec=ServerlessSpec(cloud=\"aws\",region=\"us-east-1\"))\n"
      ]
    },
    {
      "cell_type": "code",
      "execution_count": 30,
      "metadata": {
        "colab": {
          "base_uri": "https://localhost:8080/"
        },
        "id": "TCuUcc1OniDm",
        "outputId": "1f9332c7-224a-4332-a78f-4a037aa687d9"
      },
      "outputs": [
        {
          "output_type": "stream",
          "name": "stderr",
          "text": [
            "/usr/local/lib/python3.10/dist-packages/transformers/tokenization_utils_base.py:1601: FutureWarning: `clean_up_tokenization_spaces` was not set. It will be set to `True` by default. This behavior will be depracted in transformers v4.45, and will be then set to `False` by default. For more details check this issue: https://github.com/huggingface/transformers/issues/31884\n",
            "  warnings.warn(\n"
          ]
        }
      ],
      "source": [
        "embedder= SentenceTransformer('all-MiniLM-L6-v2')\n",
        "gen_model = GPT2LMHeadModel.from_pretrained(\"gpt2-medium\")\n",
        "gen_tokenizer = GPT2Tokenizer.from_pretrained(\"gpt2-medium\")\n",
        "gen_tokenizer.pad_token = gen_tokenizer.eos_token"
      ]
    },
    {
      "cell_type": "code",
      "execution_count": 31,
      "metadata": {
        "id": "u3_zm1OvtKMk"
      },
      "outputs": [],
      "source": [
        "documents=[\n",
        "    \"Artificial Intelligence (AI) is a branch of computer science focused on creating systems capable of performing tasks that would typically require human intelligence. This field encompasses a range of capabilities, including learning, reasoning, problem-solving, perception, and language understanding.\"\n",
        "    \"The concept of AI has been around for centuries, but the formal field of AI research began in the 1950s. Key figures in the early development of AI include Alan Turing, who proposed the Turing Test as a measure of machine intelligence. In 1956, the term Artificial Intelligence was coined at the Dartmouth Conference, where researchers like John McCarthy, Marvin Minsky, Nathaniel Rochester, and Claude Shannon discussed the potential of creating machines that could simulate human intelligence.\"\n",
        "    \"Early AI research focused on symbolic reasoning and rule-based systems. These systems used predefined rules to make decisions and solve problems. However, the limitations of early AI were evident due to computational constraints and a lack of data.\"\n",
        "    \"AI research experienced periods of reduced funding and interest, known as AI winters, during the late 1970s and late 1980s. These periods were marked by high expectations that were not met due to the limitations of existing technology and the difficulty in scaling AI systems. However, advances in algorithms, increased computational power, and the availability of large datasets led to a resurgence in AI research and development in the 1990s.\"\n",
        "    \"The early 21st century saw significant advancements in AI, particularly with the rise of machine learning and deep learning. Machine learning, a subset of AI, involves training algorithms on data to enable them to learn and make predictions or decisions without explicit programming. Deep learning, a specialized form of machine learning, uses artificial neural networks to model complex patterns in data.\"\n",
        "    \"One of the most notable achievements in modern AI is the development of deep learning algorithms that have achieved state-of-the-art performance in various tasks, such as image recognition, speech recognition, and natural language processing. The success of these algorithms has been driven by improvements in computational power, particularly with the use of graphics processing units (GPUs) and cloud computing.\"\n",
        "    \"AI technologies have been integrated into various applications across multiple domains. Natural Language Processing (NLP) enables machines to understand, interpret, and generate human language. Applications include language translation, sentiment analysis, and chatbots. Technologies such as OpenAI's GPT-3 and BERT have made significant strides in NLP, providing more accurate and context-aware language models.\"\n",
        "    \"Computer vision involves enabling machines to interpret and analyze visual data from the world. This includes tasks such as object detection, image classification, and facial recognition. AI systems are used in autonomous vehicles, medical imaging, and surveillance.\"\n",
        "    \"Robotics combines AI with mechanical engineering to create intelligent machines capable of performing physical tasks. Applications include industrial robots, service robots, and robotic assistants. Advances in AI have improved the capabilities of robots to perform complex tasks and interact with humans.\"\n",
        "    \"AI algorithms are used to suggest products or content based on user preferences and behavior. Recommendation systems are widely used in e-commerce, streaming services, and social media platforms to provide personalized recommendations and enhance user experience.\"\n",
        "    \"In healthcare, AI is used for diagnostic purposes, personalized treatment plans, and drug discovery. AI algorithms analyze medical data to assist doctors in diagnosing diseases and predicting patient outcomes.\"\n",
        "    \"AI technologies are applied in finance for algorithmic trading, fraud detection, and risk management. AI systems analyze financial data to make trading decisions and detect anomalies in transactions.\"\n",
        "    \"The development and deployment of AI raise several ethical and societal issues. AI systems can perpetuate or even amplify existing biases if trained on biased data. Ensuring fairness and reducing bias in AI systems is a critical challenge. Researchers are working on developing methods to detect and mitigate bias in AI algorithms.\"\n",
        "    \"AI technologies often require large amounts of data, raising concerns about privacy and data protection. Ensuring that AI systems are used responsibly and that user data is handled securely is essential.\"\n",
        "    \"Questions about the control and decision-making of autonomous systems are important considerations. Ensuring that humans retain control over AI systems and that these systems operate within ethical boundaries is crucial.\"\n",
        "    \"The automation of tasks through AI may lead to job displacement and changes in the workforce. Addressing the impact of AI on employment and providing support for affected workers is an important consideration.\"\n",
        "    \"The future of AI includes ongoing research in several areas. General AI, or Artificial General Intelligence (AGI), aims to create machines with generalized cognitive abilities similar to human intelligence. AGI remains a long-term goal and presents significant technical and ethical challenges.\"\n",
        "    \"Improving the explainability and transparency of AI systems is essential for building trust and understanding how decisions are made. Research in this area focuses on developing methods to make AI algorithms more interpretable and accountable.\"\n",
        "    \"Ensuring that AI is developed and deployed ethically is a priority. This includes establishing guidelines and regulations for AI research and applications to address ethical concerns and promote responsible use.\"\n",
        "    \"The integration of AI into various domains will likely involve collaboration between humans and AI systems. Research is focused on developing interfaces and interactions that enable effective collaboration and maximize the benefits of AI technology.\"\n",
        "    \"Artificial Intelligence is a rapidly evolving field with significant potential to impact various aspects of society. As AI technologies continue to advance, addressing ethical considerations, ensuring fairness, and promoting responsible development will be crucial for maximizing the benefits of AI while minimizing potential risks.\"\n",
        "]\n",
        "def chunk_document(doc, chunk_size=512):\n",
        "    return [doc[i:i + chunk_size] for i in range(0, len(doc), chunk_size)]\n",
        "\n",
        "\n",
        "chunks = []\n",
        "chunk_embeddings = []\n",
        "for doc in documents:\n",
        "    doc_chunks = chunk_document(doc)\n",
        "    chunks.extend(doc_chunks)\n",
        "    chunk_embeddings.extend(embedder.encode(doc_chunks))\n"
      ]
    },
    {
      "cell_type": "code",
      "execution_count": 32,
      "metadata": {
        "colab": {
          "base_uri": "https://localhost:8080/"
        },
        "id": "e77vDKvOvEUv",
        "outputId": "0055c179-ffa4-4fdd-f8d2-cd332e563a82"
      },
      "outputs": [
        {
          "output_type": "execute_result",
          "data": {
            "text/plain": [
              "{'upserted_count': 13}"
            ]
          },
          "metadata": {},
          "execution_count": 32
        }
      ],
      "source": [
        "\n",
        "import pinecone\n",
        "pc = pinecone.Pinecone(api_key=\"da1ce8b8-1a1f-47a8-bb77-677c68a0a17f\", environment=\"us-east-1\")\n",
        "index_name = 'basic-rag1'\n",
        "index = pc.Index('basic-rag1')\n",
        "vectors = [(str(i), chunk_embeddings[i]) for i in range(len(chunk_embeddings))]\n",
        "index.upsert(vectors)"
      ]
    },
    {
      "cell_type": "code",
      "execution_count": 35,
      "metadata": {
        "id": "GzXZ-VJFuSu8"
      },
      "outputs": [],
      "source": [
        "def query_rag(query):\n",
        "\n",
        "    query_embedding = embedder.encode(query).tolist()\n",
        "\n",
        "\n",
        "    results = index.query(vector=query_embedding, top_k=3, include_values=True)\n",
        "\n",
        "\n",
        "    retrieved_chunks = [chunks[int(match['id'])] for match in results['matches']]\n",
        "\n",
        "\n",
        "    context = \" \".join(retrieved_chunks)\n",
        "\n",
        "\n",
        "    max_input_length = 1024 - len(gen_tokenizer.encode(query)) - 10  # Leave space for query and some padding\n",
        "    context = context[:max_input_length]  # Trim context\n",
        "\n",
        "    input_text = f\"Context: {context} Query: {query}\"\n",
        "\n",
        "\n",
        "    inputs = gen_tokenizer.encode_plus(\n",
        "        input_text,\n",
        "        return_tensors=\"pt\",\n",
        "        padding=True,\n",
        "        truncation=True,\n",
        "        max_length=512,\n",
        "        add_special_tokens=True\n",
        "    )\n",
        "\n",
        "    outputs = gen_model.generate(\n",
        "       inputs['input_ids'],\n",
        "       attention_mask=inputs['attention_mask'],\n",
        "       max_length=512,\n",
        "       num_return_sequences=1,\n",
        "       pad_token_id=gen_tokenizer.eos_token_id\n",
        "    )\n",
        "\n",
        "    response = gen_tokenizer.decode(outputs[0], skip_special_tokens=True)\n",
        "    print(response)\n",
        "    attention_mask = inputs['attention_mask']"
      ]
    },
    {
      "cell_type": "code",
      "execution_count": 36,
      "metadata": {
        "colab": {
          "base_uri": "https://localhost:8080/"
        },
        "id": "4Tm1mogi-t6b",
        "outputId": "bda17e02-cd7a-4623-85ee-02b4a37e6b10"
      },
      "outputs": [
        {
          "output_type": "stream",
          "name": "stdout",
          "text": [
            "Context: gnostic purposes, personalized treatment plans, and drug discovery. AI algorithms analyze medical data to assist doctors in diagnosing diseases and predicting patient outcomes.AI technologies are applied in finance for algorithmic trading, fraud detection, and risk management. AI systems analyze financial data to make trading decisions and detect anomalies in transactions.The development and deployment of AI raise several ethical and societal issues. AI systems can perpetuate or even amplify existing biases responsible development will be crucial for maximizing the benefits of AI while minimizing potential risks. of performing physical tasks. Applications include industrial robots, service robots, and robotic assistants. Advances in AI have improved the capabilities of robots to perform complex tasks and interact with humans.AI algorithms are used to suggest products or content based on user preferences and behavior. Recommendation systems are widely used in e-commerce, streaming services, and Query: How does AI impact healthcare?AI algorithms are used to predict the future of a product or service based on user behavior. AI algorithms are used to predict the future of a product or service based on user behavior.AI algorithms are used to predict the future of a product or service based on user behavior.AI algorithms are used to predict the future of a product or service based on user behavior.AI algorithms are used to predict the future of a product or service based on user behavior.AI algorithms are used to predict the future of a product or service based on user behavior.AI algorithms are used to predict the future of a product or service based on user behavior.AI algorithms are used to predict the future of a product or service based on user behavior.AI algorithms are used to predict the future of a product or service based on user behavior.AI algorithms are used to predict the future of a product or service based on user behavior.AI algorithms are used to predict the future of a product or service based on user behavior.AI algorithms are used to predict the future of a product or service based on user behavior.AI algorithms are used to predict the future of a product or service based on user behavior.AI algorithms are used to predict the future of a product or service based on user behavior.AI algorithms are used to predict the future of a product or service based on user behavior.AI algorithms are used to predict the future of a product or service based on user behavior.AI algorithms are used to predict the future of a product or service based on user behavior.AI algorithms are used to predict the future of a product or service based on user behavior.AI algorithms are used to predict the future of a product\n",
            "Response: None\n"
          ]
        }
      ],
      "source": [
        "query = \"How does AI impact healthcare?\"\n",
        "response = query_rag(query)\n",
        "print(\"Response:\", response)"
      ]
    }
  ],
  "metadata": {
    "colab": {
      "provenance": [],
      "gpuType": "T4",
      "include_colab_link": true
    },
    "kernelspec": {
      "display_name": "Python 3",
      "name": "python3"
    },
    "accelerator": "GPU"
  },
  "nbformat": 4,
  "nbformat_minor": 0
}